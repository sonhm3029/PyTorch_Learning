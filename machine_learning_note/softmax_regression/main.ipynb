{
 "cells": [
  {
   "cell_type": "markdown",
   "metadata": {},
   "source": [
    "# Softmax Regression note\n",
    "\n",
    "Dùng trong bài toán classifications với nhiều class khác nhau cần được classified.\n",
    "\n",
    "Mô hình neural network cho bài toán phần loại nhiều class sử dụng Logistic Regression với one-vs-rest:\n",
    "\n",
    "![](../../images/soft_max_1.png)\n",
    "\n"
   ]
  },
  {
   "cell_type": "markdown",
   "metadata": {},
   "source": [
    "Giả sử số classes là C => cần xây dựng C Logistic Regression ở đây là C node output"
   ]
  }
 ],
 "metadata": {
  "language_info": {
   "name": "python"
  },
  "orig_nbformat": 4
 },
 "nbformat": 4,
 "nbformat_minor": 2
}
