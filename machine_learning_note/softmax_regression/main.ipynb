{
 "cells": [
  {
   "cell_type": "markdown",
   "metadata": {},
   "source": [
    "# Softmax Regression note\n",
    "\n",
    "Dùng trong bài toán classifications với nhiều class khác nhau cần được classified.\n",
    "\n",
    "Mô hình neural network cho bài toán phần loại nhiều class sử dụng Logistic Regression với one-vs-rest:\n",
    "\n",
    "![](../../images/soft_max_1.png)\n",
    "\n"
   ]
  },
  {
   "cell_type": "markdown",
   "metadata": {},
   "source": [
    "Giả sử số classes là C => cần xây dựng C Logistic Regression ở đây là C node output"
   ]
  }
 ],
 "metadata": {
  "kernelspec": {
   "display_name": "Python 3.9.7 ('base')",
   "language": "python",
   "name": "python3"
  },
  "language_info": {
   "name": "python",
   "version": "3.9.7"
  },
  "orig_nbformat": 4,
  "vscode": {
   "interpreter": {
    "hash": "a99539085cd3bdd5c32c96cfbe8da0377cdfd87c78a129b6678f1e2495c8398d"
   }
  }
 },
 "nbformat": 4,
 "nbformat_minor": 2
}
