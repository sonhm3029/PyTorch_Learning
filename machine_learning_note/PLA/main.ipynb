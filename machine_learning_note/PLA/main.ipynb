{
 "cells": [
  {
   "cell_type": "markdown",
   "metadata": {},
   "source": [
    "PLA là thuật toán phân loại cho trường hợp đơn giản nhất: chỉ có 2 class (lớp)(bài toán phân loại với 2 lớp gọi là binary classification) và cũng chỉ hoạt động được trong trường hợp rất cụ thể\n",
    "\n",
    "![](../../images/pla_.png)\n",
    "\n",
    "Yêu cầu đặt ra của thuật toán là chúng ta phải tìm lãnh thổ cho mỗi class sao cho, với mỗi một điểm mới, ta chỉ cần xác định xem nó nằm trong lãnh thổ của class nào => quyết định nó thuộc class đó. Để tìm lãnh thổ của class thì ta cần tìm biên giới (boundary) giữa các class.\n",
    "\n",
    "Trong đó boundary:\n",
    "\n",
    "- Trong không gian 2 chiều là 1 đường thẳng\n",
    "- Trong không gian 3 chiều là một mặt phẳng\n",
    "- Trong không gian nhiều chiều là siêu mặt phẳng.\n",
    "\n",
    "**Bài toán perceptron:**\n",
    "\n",
    "Bài toán Perceptron được phát biểu như sau: Cho hai class được gán nhãn, hãy tìm một đường phẳng sao cho toàn bộ các điểm thuộc class 1 nằm về 1 phía, toàn bộ các điểm thuộc class 2 nằm về phía còn lại của đường phẳng đó. Với giả định rằng tồn tại một đường phẳng như thế.\n",
    "\n",
    "Nếu tồn tại một đường phẳng phân chia hai class thì ta gọi hai class đó là linearly separable. Các thuật toán classification tạo ra các boundary là các đường phẳng được gọi chung là Linear Classifier.\n",
    "\n",
    "**Ý tưởng thuật toán PLA:**\n",
    "\n",
    "Hàm mất mát của PLA là hàm đếm số lượng điểm bị missclasified có dạng\n",
    "\n",
    "![](../../images/pla_2.png)\n",
    "\n",
    "Giải thích: Hàm sgn(w<sup>T</sup>x<sub>i</sub>) là hàm chỉ mang 2 giá trị là 1 khi **w<sup>T</sup>x<sub>i</sub>** > 0 và -1 khi ngược lại. Do đó khi nhân với label -y<sub>i</sub> thì sẽ được giá trị là 1 => hàm trên tính số điểm bị phân loại chưa đúng.\n",
    "\n",
    "Tuy nhiên hàm trên là hàm rời rạc, khó tính đạo hàm => chuyển về hàm mất mát là hàm như sau:\n",
    "\n",
    "![](../../images/pla_3.png)\n",
    "\n",
    "Ta thấy rằng khi một điểm x<sub>i</sub> bị missclassified nằm càng xa boundary thì giá trị -y<sub>i</sub>**w<sup>T</sup>x<sub>i</sub>** sẽ càng lớn => Hàm mất mát min = 0 khi không còn điểm nào bị missclassified.\n",
    "\n",
    "![](../../images/pla_4.png)\n",
    "\n",
    "\n",
    "**Tóm tắt thuật toán:**\n",
    "\n",
    "![](../../images/pla_5.png)\n",
    "\n",
    "\n",
    "\n",
    "\n",
    "\n"
   ]
  },
  {
   "cell_type": "markdown",
   "metadata": {},
   "source": []
  }
 ],
 "metadata": {
  "language_info": {
   "name": "python"
  },
  "orig_nbformat": 4
 },
 "nbformat": 4,
 "nbformat_minor": 2
}
