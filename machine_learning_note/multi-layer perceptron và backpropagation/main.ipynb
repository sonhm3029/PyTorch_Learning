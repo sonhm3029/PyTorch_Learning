{
 "cells": [
  {
   "cell_type": "markdown",
   "metadata": {},
   "source": [
    "## 1. Multi-layer perceptron, Neural Network:\n",
    "\n",
    "\n",
    "Xét phép toán AND, OR, NOT, XOR cho neural network:\n",
    "\n",
    "![](../../images/nn_1.png)\n",
    "\n",
    "Ta thấy rằng đối với bài toán phép XOR ta không thể dùng 1 đường thẳng để phân chia dữ liệu do tập dữ liệu là non linearly seperable.\n",
    "\n",
    "Ta có thể giải quyết bài toán trên như sau:\n",
    "\n",
    "![](../../images/nn_2.png)\n",
    "\n",
    "Từ bảng chân lý trên, ta thấy rằng có thể xây dựng một mô hình Neural Network như sau:\n",
    "\n",
    "![](../../images/nn_3.png)\n",
    "\n",
    "Ta thấy rằng, bằng cách thêm một layer vào mô hình thì bài toán đã được giải quyết"
   ]
  },
  {
   "cell_type": "markdown",
   "metadata": {},
   "source": [
    "<strong>Chú ý: </strong>Ta cần thêm bias w0 vì nếu không đường boundary sẽ đi qua gốc tọa độ => Không thể tìm được đường thẳng mong muốn\n",
    "\n",
    "## 2. Ký hiệu\n",
    "\n",
    "### 2.1 Layers\n",
    "- Số lượng Layer trong một Neural Network được tính bằng số Hidden Layer + 1 tức là không tính input layer. Với mô hình ở trên thì số Layer là L = 2\n",
    "\n",
    "### 2.2 Units\n",
    "\n",
    "- Các node hình tròn trong các layer được gọi là unit. Đầu vào các hidden layer được kí hiệu bởi z, đầu ra của mỗi unit kí hiệu là a ( tức là kết quả tính toán khi apply z vào activate function)\n",
    "\n",
    "### 2.3 Kí hiệu\n",
    "\n",
    "- Đối với kí hiệu trong Neural Network thì chỉ số mũ thương là chỉ số (số thứ tự) của layer đang xét, chỉ số dưới là chỉ số thứ tự của dữ liệu trong tập dữ liệu.\n",
    "\n",
    "![](../../images/nn_4.png)\n",
    "\n",
    "\n",
    "### 2.4 Weights và Biases\n"
   ]
  }
 ],
 "metadata": {
  "language_info": {
   "name": "python"
  },
  "orig_nbformat": 4
 },
 "nbformat": 4,
 "nbformat_minor": 2
}
