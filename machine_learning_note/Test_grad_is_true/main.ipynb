{
 "cells": [
  {
   "cell_type": "markdown",
   "metadata": {},
   "source": [
    "Việc tính đạo hàm cho một số hàm số phức tạp có thể gây ra sai sót => Có một cách để kiểm tra xem hàm đạo hàm của ta tính đúng hay không là so sánh với đạo hàm tính bằng định nghĩa. Công thức tính đạo hàm theo định nghĩa như sau:\n",
    "\n",
    "![](../../images/grad_check_1.png)"
   ]
  },
  {
   "cell_type": "markdown",
   "metadata": {},
   "source": [
    "Ví dụ kiểm tra đạo hàm cho linear regression:\n"
   ]
  },
  {
   "cell_type": "markdown",
   "metadata": {},
   "source": [
    "```Python\n",
    "\n",
    "\n",
    "def grad(w):\n",
    "    N = Xbar.shape[0]\n",
    "    return 1/N * Xbar.T.dot(Xbar.dot(w) - y)\n",
    "\n",
    "def cost(w):\n",
    "    N = Xbar.shape[0]\n",
    "    return .5/N*np.linalg.norm(y - Xbar.dot(w), 2)**2;\n",
    "\n",
    "def numerical_grad(w, cost):\n",
    "    eps = 1e-4\n",
    "    g = np.zeros_like(w)\n",
    "    for i in range(len(w)):\n",
    "        w_p = w.copy()\n",
    "        w_n = w.copy()\n",
    "        w_p[i] += eps \n",
    "        w_n[i] -= eps\n",
    "        g[i] = (cost(w_p) - cost(w_n))/(2*eps)\n",
    "    return g \n",
    "\n",
    "def check_grad(w, cost, grad):\n",
    "    w = np.random.rand(w.shape[0], w.shape[1])\n",
    "    grad1 = grad(w)\n",
    "    grad2 = numerical_grad(w, cost)\n",
    "    return True if np.linalg.norm(grad1 - grad2) < 1e-6 else False \n",
    "\n",
    "print( 'Checking gradient...', check_grad(np.random.rand(2, 1), cost, grad))\n",
    "```"
   ]
  }
 ],
 "metadata": {
  "language_info": {
   "name": "python"
  },
  "orig_nbformat": 4
 },
 "nbformat": 4,
 "nbformat_minor": 2
}
