{
 "cells": [
  {
   "cell_type": "markdown",
   "metadata": {},
   "source": [
    "# KNN\n",
    "\n",
    "Ý tưởng của thuật toán KNN là xem xét k điểm gần nhất đối với điểm dữ liệu cần dự đoán cluster. Trong k điểm đó, xem số điểm thuộc cluster nào xuất hiện nhiều nhất => điểm dữ liệu cần dự đoán thuộc cluster đó => label cho điểm dữ liệu\n",
    "\n",
    "![](../../images/knn_1.png)\n",
    "\n",
    "Xem ví dụ trên, điểm màu xanh lá cây cần dự đoán với k = 3 ứng với 3 điểm gần nó nhất như hình vẽ. Ta thấy rằng số lượng điểm màu xanh dương xuất hiện nhiều nhất trong k điểm đang xét => điểm cần dự đoán thuộc nhóm màu xanh dương"
   ]
  }
 ],
 "metadata": {
  "language_info": {
   "name": "python"
  },
  "orig_nbformat": 4
 },
 "nbformat": 4,
 "nbformat_minor": 2
}
