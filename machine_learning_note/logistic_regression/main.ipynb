{
 "cells": [
  {
   "cell_type": "markdown",
   "metadata": {},
   "source": [
    "Mô hình kết hợp giữa `Linear Regression` và `PLA` khi đầu ra là xác suất. Thường được dùng nhiều trong các bài toán classification.\n",
    "\n",
    "![](../images/logistic_reg_1.png)\n",
    "\n",
    "Trong đó `theta` là logistic function. Một số activate function thường dùng:\n",
    "\n",
    "![](../../images/logistic_reg_2.png)\n",
    "\n",
    "**Sigmoid function:**\n",
    "\n",
    "Hàm sigmoid là hàm thường được sử dụng làm activate function vì có lim 2 phía đến vô cùng bằng 0 và 1:\n",
    "\n",
    "![](../../images/sigmoid_1.png)\n",
    "\n",
    "Ngoài ra thì đạo hàm của hàm sigmoid sẽ cho ra kết quả là một hàm mới là hàm với biến số là chính hàm sigmoid:\n",
    "\n",
    "![](../../images/sigmoid_2.png)\n",
    "\n",
    "Hoặc hàm `tanh`:\n",
    "\n",
    "![](../../images/tanh_1.png)\n",
    "\n",
    "![](../../images/tanh_2.png)\n",
    "\n",
    "Hàm mất mát đối với thuật toán logistic regression:\n",
    "\n",
    "![](../../images/logistic_reg_3.png)\n",
    "\n",
    "Trong đó **z<sub>i</sub>** là hàm :\n",
    "\n",
    "![](../../images/logistic_reg_4.png)\n",
    "\n",
    "\n",
    "Và cũng chính là một trong các activate function, thường là sigmoid\n",
    "\n",
    "Từ đó suy ra được Đạo hàm của hàm mất mát theo **w** là:\n",
    "\n",
    "![](../../images/logistic_reg_5.png)\n",
    "\n",
    "Công thức cập nhật **w** theo SGD (trên từng điểm dữ liệu):\n",
    "\n",
    "![](../../images/logistic_reg_6.png)"
   ]
  }
 ],
 "metadata": {
  "language_info": {
   "name": "python"
  },
  "orig_nbformat": 4
 },
 "nbformat": 4,
 "nbformat_minor": 2
}
