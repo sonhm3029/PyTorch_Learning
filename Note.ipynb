{
 "cells": [
  {
   "cell_type": "markdown",
   "metadata": {},
   "source": [
    "# Note Pytorch"
   ]
  },
  {
   "cell_type": "markdown",
   "metadata": {},
   "source": [
    "## 1. Tensor\n",
    "\n",
    "- Khởi tạo"
   ]
  },
  {
   "cell_type": "code",
   "execution_count": 15,
   "metadata": {},
   "outputs": [
    {
     "name": "stdout",
     "output_type": "stream",
     "text": [
      "tensor([1, 2, 3, 4, 5, 6])\n",
      "tensor([0, 1, 2, 3, 4, 5])\n"
     ]
    }
   ],
   "source": [
    "import torch\n",
    "\n",
    "a = torch.tensor([1,2,3,4,5,6])\n",
    "b = torch.arange(0,6)\n",
    "\n",
    "print(a)\n",
    "print(b)"
   ]
  },
  {
   "cell_type": "markdown",
   "metadata": {},
   "source": [
    "Các phép toán"
   ]
  },
  {
   "cell_type": "code",
   "execution_count": 16,
   "metadata": {},
   "outputs": [
    {
     "name": "stdout",
     "output_type": "stream",
     "text": [
      "tensor([1, 2, 3, 4, 5, 6]) tensor([0, 1, 2, 3, 4, 5]) tensor([ 1,  3,  5,  7,  9, 11])\n",
      "tensor([1, 2, 3, 4, 5, 6]) tensor([0, 1, 2, 3, 4, 5]) tensor([ 1,  3,  5,  7,  9, 11])\n",
      "tensor([ 1,  3,  5,  7,  9, 11]) tensor([0, 1, 2, 3, 4, 5]) tensor([ 1,  3,  5,  7,  9, 11])\n"
     ]
    }
   ],
   "source": [
    "c = a + b\n",
    "print(a, b, c)\n",
    "c = a.add(b)\n",
    "print(a,b,c)\n",
    "a.add_(b)\n",
    "print(a,b,c)\n",
    "# Tương tự có\n",
    "# a.mul_()\n",
    "# a.sub_()\n"
   ]
  },
  {
   "cell_type": "markdown",
   "metadata": {},
   "source": [
    "Reshape mảng, việc thay đổi trên mảng mới -> ảnh hưởng đến mảng bản đầu\n"
   ]
  },
  {
   "cell_type": "code",
   "execution_count": 22,
   "metadata": {},
   "outputs": [
    {
     "name": "stdout",
     "output_type": "stream",
     "text": [
      "tensor([[1, 2, 3, 4],\n",
      "        [5, 6, 7, 8]])\n",
      "tensor([[1, 2, 3, 4],\n",
      "        [5, 6, 7, 8]])\n",
      "tensor([[2, 3, 4, 5],\n",
      "        [6, 7, 8, 9]])\n",
      "tensor([2, 3, 4, 5, 6, 7, 8, 9])\n",
      "tensor([[2, 3],\n",
      "        [4, 5],\n",
      "        [6, 7],\n",
      "        [8, 9]])\n"
     ]
    }
   ],
   "source": [
    "d = torch.tensor([1,2,3,4,5,6,7,8])\n",
    "c = d.view(2,4)\n",
    "print(c)\n",
    "c = d.view(-1,4)\n",
    "e = d.view(-1,2)\n",
    "print(c)\n",
    "c +=1\n",
    "print(c)\n",
    "print(d)\n",
    "print(e)\n"
   ]
  },
  {
   "cell_type": "markdown",
   "metadata": {},
   "source": [
    "Để không làm ảnh hưởng đến mảng ban đầu => tạo bản copy mảng"
   ]
  },
  {
   "cell_type": "code",
   "execution_count": 27,
   "metadata": {},
   "outputs": [
    {
     "name": "stdout",
     "output_type": "stream",
     "text": [
      "tensor([1, 2, 3, 4, 5, 6, 7, 8, 9])\n",
      "tensor([0, 1, 2, 3, 4, 5, 6, 7, 8])\n"
     ]
    }
   ],
   "source": [
    "test = torch.arange(0,9)\n",
    "copy = torch.clone(test)\n",
    "copy +=1\n",
    "print(copy)\n",
    "print(test)"
   ]
  },
  {
   "cell_type": "markdown",
   "metadata": {},
   "source": [
    "```Chú ý: Với các hàm có dạng func_(), có dấu \"_\" ở đuôi => có nghĩa là sẽ modified giá trị của biến gọi hàm. Ví dụ: a.mul_(b) => a = a*b. ```"
   ]
  },
  {
   "cell_type": "markdown",
   "metadata": {},
   "source": [
    "## 2. Gradient calculator với autograd\n"
   ]
  },
  {
   "cell_type": "markdown",
   "metadata": {},
   "source": [
    "Để thực hiện tính toán grad cho một hàm nào đó\n",
    "\n",
    "Ví dụ: f = x^2\n",
    "\n",
    "=> grad(f) = 2*x\n",
    "\n",
    "Thực hiện bằng code:"
   ]
  },
  {
   "cell_type": "code",
   "execution_count": 39,
   "metadata": {},
   "outputs": [
    {
     "name": "stdout",
     "output_type": "stream",
     "text": [
      "tensor(4.6667, grad_fn=<MeanBackward0>)\n",
      "tensor(4.6667, grad_fn=<MeanBackward0>)\n",
      "tensor([0.6667, 1.3333, 2.0000])\n"
     ]
    }
   ],
   "source": [
    "x = torch.arange(1,4,dtype=torch.float32, requires_grad=True)\n",
    "f = x**2\n",
    "f = f.mean()\n",
    "print(f)\n",
    "f.backward()\n",
    "print(f)\n",
    "print(x.grad)"
   ]
  },
  {
   "cell_type": "markdown",
   "metadata": {},
   "source": [
    "Cần define `requires_grad=True` và gọi `.backward()` để tính.\n",
    "\n",
    "Lưu ý, ví dụ trên là thực hiện với f mang scalar value (f.mean()) Cho nên `f.backward()` không có parameter.\n",
    "\n",
    "Xét ví dụ:"
   ]
  },
  {
   "cell_type": "code",
   "execution_count": 38,
   "metadata": {},
   "outputs": [
    {
     "name": "stdout",
     "output_type": "stream",
     "text": [
      "tensor([2., 4., 6.], grad_fn=<MulBackward0>)\n",
      "tensor([2., 4., 6.], grad_fn=<MulBackward0>)\n",
      "tensor([0.2000, 2.0000, 0.0020])\n"
     ]
    }
   ],
   "source": [
    "x = torch.arange(1,4,dtype=torch.float32, requires_grad=True)\n",
    "f = 2*x\n",
    "# f = f.mean()\n",
    "print(f)\n",
    "f.backward(torch.tensor([0.1, 1.0, 0.001],dtype=torch.float32))\n",
    "print(f)\n",
    "print(x.grad)"
   ]
  },
  {
   "cell_type": "markdown",
   "metadata": {},
   "source": [
    "Cần truyền vector vào hàm `backward`."
   ]
  },
  {
   "cell_type": "markdown",
   "metadata": {},
   "source": [
    "Trong quá trình training model, khi tính toán lại weights... Có những lúc ta không muốn tính toán gradient. Ta có các cách sau:\n",
    "\n",
    "```Python\n",
    "x.requires_grad_(False)\n",
    "# Hoặc\n",
    "y = x.detach()\n",
    "```\n",
    "\n",
    "Trong đó cả 2 hàm đều tạo ra biến mới với `require_grad=False`\n",
    "\n",
    "Hoặc\n",
    "\n",
    "```Python\n",
    "with torch.no_grad():\n",
    "    ...\n",
    "```"
   ]
  },
  {
   "cell_type": "markdown",
   "metadata": {},
   "source": [
    "Reset grad về 0:\n",
    "\n",
    "```Python\n",
    "x.grad.zero_()\n",
    "```"
   ]
  },
  {
   "cell_type": "markdown",
   "metadata": {},
   "source": [
    "## 3. Gradient Descent with Autograd and Backpropagation\n"
   ]
  }
 ],
 "metadata": {
  "kernelspec": {
   "display_name": "Python 3.9.7 ('base')",
   "language": "python",
   "name": "python3"
  },
  "language_info": {
   "codemirror_mode": {
    "name": "ipython",
    "version": 3
   },
   "file_extension": ".py",
   "mimetype": "text/x-python",
   "name": "python",
   "nbconvert_exporter": "python",
   "pygments_lexer": "ipython3",
   "version": "3.9.7"
  },
  "orig_nbformat": 4,
  "vscode": {
   "interpreter": {
    "hash": "a99539085cd3bdd5c32c96cfbe8da0377cdfd87c78a129b6678f1e2495c8398d"
   }
  }
 },
 "nbformat": 4,
 "nbformat_minor": 2
}
