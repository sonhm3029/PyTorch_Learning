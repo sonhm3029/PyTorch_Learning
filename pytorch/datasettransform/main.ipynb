{
 "cells": [
  {
   "cell_type": "markdown",
   "metadata": {},
   "source": [
    "# TRANSFORMS\n",
    "\n",
    "Thông thường khi load data vào thì nó sẽ không theo một dạng chuẩn nào đó, muốn data về dạng mà ta mong muốn thì cần p qua bước transform. `torchvision` cung cấp các build in `transform` để pass vào `transform` và `target_transform` khi load data.\n",
    "\n",
    "Ví dụ:\n"
   ]
  },
  {
   "cell_type": "code",
   "execution_count": 2,
   "metadata": {},
   "outputs": [],
   "source": [
    "import torch\n",
    "from torchvision import datasets\n",
    "from torchvision.transforms import ToTensor, Lambda\n",
    "\n",
    "ds = datasets.FashionMNIST(\n",
    "    root=\"../../data\",\n",
    "    train=True,\n",
    "    download=True,\n",
    "    transform=ToTensor(),\n",
    "    target_transform=Lambda(lambda y: torch.zeros(10, dtype=torch.float).scatter_(0, torch.tensor(y), value=1))\n",
    ")"
   ]
  },
  {
   "cell_type": "markdown",
   "metadata": {},
   "source": [
    "Ở ví dụ trên ta có sử dụng `ToTensor` để transform input từ `numpy.ndarray` sang `tensor` của Pytorch.\n",
    "\n",
    "`Lambda` transform dùng để apply cho các `lambda` function\n",
    "\n",
    "Với\n",
    "\n",
    "```python\n",
    "lambda y: torch.zeros(10, dtype=torch.float).scatter_(0, torch.tensor(y), value=1)\n",
    "```\n",
    "Thực chuyển giá trị target thành `one-hot encoded` tenser theo các bước: \n",
    "- tạo zero tensor có size là 10 (số labels trong dataset)\n",
    "- `scatter_` sẽ assign `value=1` cho element trong `tensor 10` có `index = labels trong dataset`"
   ]
  },
  {
   "cell_type": "markdown",
   "metadata": {},
   "source": [
    "## Custom dataset và implement Custom transform, multiple transform"
   ]
  },
  {
   "cell_type": "code",
   "execution_count": 1,
   "metadata": {},
   "outputs": [
    {
     "name": "stdout",
     "output_type": "stream",
     "text": [
      "<class 'torch.Tensor'> <class 'torch.Tensor'>\n",
      "Before transform:\n",
      "tensor([1.4230e+01, 1.7100e+00, 2.4300e+00, 1.5600e+01, 1.2700e+02, 2.8000e+00,\n",
      "        3.0600e+00, 2.8000e-01, 2.2900e+00, 5.6400e+00, 1.0400e+00, 3.9200e+00,\n",
      "        1.0650e+03])\n",
      "tensor([1.])\n",
      "After transform:\n",
      "<class 'torch.Tensor'> <class 'torch.Tensor'>\n",
      "tensor([4.2690e+01, 5.1300e+00, 7.2900e+00, 4.6800e+01, 3.8100e+02, 8.4000e+00,\n",
      "        9.1800e+00, 8.4000e-01, 6.8700e+00, 1.6920e+01, 3.1200e+00, 1.1760e+01,\n",
      "        3.1950e+03])\n",
      "tensor([1.])\n"
     ]
    }
   ],
   "source": [
    "import torchvision\n",
    "from torch.utils.data import DataLoader, Dataset\n",
    "import numpy as np\n",
    "import torch\n",
    "\n",
    "\n",
    "\n",
    "# Custom Dataset\n",
    "class WineDataset(Dataset):\n",
    "    def __init__(self, transform=None):\n",
    "        # download data:\n",
    "        xy = np.loadtxt(\"../../data/wine/wine.csv\",\n",
    "                        delimiter=',',\n",
    "                        dtype=np.float32, \n",
    "                        skiprows = 1)\n",
    "        # Not conver, transform data here\n",
    "        self.x = xy[:,1:]\n",
    "        self.y = xy[:,[0]]\n",
    "        self.n_samples = xy.shape[0]\n",
    "        self.transform = transform\n",
    "\n",
    "    def __getitem__(self, index):\n",
    "        sample = self.x[index], self.y[index]\n",
    "        if self.transform:\n",
    "            sample = self.transform(sample)\n",
    "        return sample\n",
    "\n",
    "    def __len__(self):\n",
    "        return self.n_samples     \n",
    "\n",
    "\n",
    "# Custom transform\n",
    "class ToTensor:\n",
    "    def __call__(self, sample):\n",
    "        inputs, labels = sample\n",
    "        return torch.from_numpy(inputs), torch.from_numpy(labels)    \n",
    "\n",
    "class MulTransform:\n",
    "    def __init__(self,factor):\n",
    "        self.factor = factor\n",
    "\n",
    "    def __call__(self, sample):\n",
    "        inputs, labels = sample\n",
    "        inputs *=self.factor\n",
    "        return inputs, labels\n",
    "\n",
    "dataset = WineDataset(transform=ToTensor())\n",
    "input, label = dataset[0]\n",
    "print(type(input), type(label))\n",
    "print(\"Before transform:\")\n",
    "print(input)\n",
    "print(label)\n",
    "\n",
    "# using composed transform\n",
    "composed = torchvision.transforms.Compose([ToTensor(), MulTransform(3)])\n",
    "dataset = WineDataset(transform=composed)\n",
    "input, label = dataset[0]\n",
    "\n",
    "print(\"After transform:\")\n",
    "print(type(input), type(label))\n",
    "print(input)\n",
    "print(label)\n"
   ]
  }
 ],
 "metadata": {
  "kernelspec": {
   "display_name": "Python 3.9.7 ('base')",
   "language": "python",
   "name": "python3"
  },
  "language_info": {
   "codemirror_mode": {
    "name": "ipython",
    "version": 3
   },
   "file_extension": ".py",
   "mimetype": "text/x-python",
   "name": "python",
   "nbconvert_exporter": "python",
   "pygments_lexer": "ipython3",
   "version": "3.9.7"
  },
  "orig_nbformat": 4,
  "vscode": {
   "interpreter": {
    "hash": "a99539085cd3bdd5c32c96cfbe8da0377cdfd87c78a129b6678f1e2495c8398d"
   }
  }
 },
 "nbformat": 4,
 "nbformat_minor": 2
}
