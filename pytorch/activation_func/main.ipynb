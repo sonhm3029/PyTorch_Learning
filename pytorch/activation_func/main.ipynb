{
 "cells": [
  {
   "cell_type": "markdown",
   "metadata": {},
   "source": [
    "# Activation function\n",
    "\n",
    "![](../../images/activate_func_1.png)\n",
    "\n",
    "![](../../images/activate_func_2.png)\n",
    "\n",
    "\n",
    "## Most popular activate functions:\n",
    "\n",
    "### 1. Step function\n",
    "\n",
    "![](../../images/activate_func_3.png)\n",
    "### 2. Sigmoid\n",
    "![](../../images/activate_func_4.png)\n",
    "### 3. TanH\n",
    "![](../../images/activate_func_5.png)\n",
    "### 4. ReLU\n",
    "![](../../images/activate_func_6.png)\n",
    "### 5. Leaky ReLU\n",
    "![](../../images/activate_func_7.png)\n",
    "### 6. Softmax\n",
    "![](../../images/activate_func_8.png)\n",
    "\n",
    "### Example\n",
    "\n"
   ]
  },
  {
   "cell_type": "code",
   "execution_count": 1,
   "metadata": {},
   "outputs": [],
   "source": [
    "import torch\n",
    "import torch.nn as nn\n",
    "import torch.nn.functional as F\n",
    "\n",
    "\n",
    "class NeuralNet(nn.Module):\n",
    "    def __init__(self, input_size, hidden_size):\n",
    "        super(NeuralNet, self).__init__()\n",
    "        self.linear1 = nn.Linear(input_size, hidden_size)\n",
    "        self.relu = nn.ReLU()\n",
    "        self.linear2 = nn.Linear(hidden_size, 1)\n",
    "        self.sigmoid = nn.Sigmoid()\n",
    "\n",
    "    def forward(self,x):\n",
    "        out = self.linear1(x)\n",
    "        out = self.relu(out)\n",
    "        out = self.linear2(x)\n",
    "        out = self.sigmoid(out)\n",
    "        return out\n"
   ]
  }
 ],
 "metadata": {
  "kernelspec": {
   "display_name": "Python 3.9.7 ('base')",
   "language": "python",
   "name": "python3"
  },
  "language_info": {
   "codemirror_mode": {
    "name": "ipython",
    "version": 3
   },
   "file_extension": ".py",
   "mimetype": "text/x-python",
   "name": "python",
   "nbconvert_exporter": "python",
   "pygments_lexer": "ipython3",
   "version": "3.9.7"
  },
  "orig_nbformat": 4,
  "vscode": {
   "interpreter": {
    "hash": "a99539085cd3bdd5c32c96cfbe8da0377cdfd87c78a129b6678f1e2495c8398d"
   }
  }
 },
 "nbformat": 4,
 "nbformat_minor": 2
}
