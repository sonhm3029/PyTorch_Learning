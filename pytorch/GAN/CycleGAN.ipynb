{
 "cells": [
  {
   "cell_type": "code",
   "execution_count": null,
   "metadata": {},
   "outputs": [],
   "source": []
  },
  {
   "attachments": {},
   "cell_type": "markdown",
   "metadata": {},
   "source": [
    "## References\n",
    "\n",
    "1. [https://nttuan8.com/bai-8-cyclegan/](https://nttuan8.com/bai-8-cyclegan/)\n",
    "\n",
    "2. [https://www.youtube.com/watch?v=5jziBapziYE&list=PLhhyoLH6IjfwIp8bZnzX8QR30TRcHO8Va&index=8](https://www.youtube.com/watch?v=5jziBapziYE&list=PLhhyoLH6IjfwIp8bZnzX8QR30TRcHO8Va&index=8)\n",
    "\n",
    "3. [https://modelzoo.co/model/pytorch-cyclegan-and-pix2pix](https://modelzoo.co/model/pytorch-cyclegan-and-pix2pix)\n",
    "\n",
    "4. [https://junyanz.github.io/CycleGAN/](https://junyanz.github.io/CycleGAN/)"
   ]
  }
 ],
 "metadata": {
  "language_info": {
   "name": "python"
  },
  "orig_nbformat": 4
 },
 "nbformat": 4,
 "nbformat_minor": 2
}
