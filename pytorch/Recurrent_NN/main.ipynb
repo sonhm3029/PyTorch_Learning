{
 "cells": [
  {
   "cell_type": "code",
   "execution_count": 6,
   "metadata": {},
   "outputs": [
    {
     "name": "stdout",
     "output_type": "stream",
     "text": [
      "Czech\n"
     ]
    }
   ],
   "source": [
    "import torch\n",
    "from rnn import RNN, category_from_output\n",
    "from utils import ALL_LETTERS, N_LETTERS\n",
    "\n",
    "from utils import load_data, line_to_tensor\n",
    "\n",
    "category_lines, all_categories = load_data()\n",
    "model = RNN(N_LETTERS, 128,len(all_categories))\n",
    "\n",
    "with torch.no_grad():\n",
    "    name = input(\"Type in name > \")\n",
    "    name_tensor = line_to_tensor(name)\n",
    "    \n",
    "    hidden = model.init_hidden()\n",
    "    for ch in name_tensor:\n",
    "        output, hidden = model(ch, hidden)\n",
    "        \n",
    "    guess = category_from_output(output, all_categories)\n",
    "    \n",
    "    print(guess)\n",
    "\n",
    "\n",
    "\n"
   ]
  }
 ],
 "metadata": {
  "kernelspec": {
   "display_name": "Python 3.9.7 ('base')",
   "language": "python",
   "name": "python3"
  },
  "language_info": {
   "codemirror_mode": {
    "name": "ipython",
    "version": 3
   },
   "file_extension": ".py",
   "mimetype": "text/x-python",
   "name": "python",
   "nbconvert_exporter": "python",
   "pygments_lexer": "ipython3",
   "version": "3.9.13"
  },
  "orig_nbformat": 4,
  "vscode": {
   "interpreter": {
    "hash": "a99539085cd3bdd5c32c96cfbe8da0377cdfd87c78a129b6678f1e2495c8398d"
   }
  }
 },
 "nbformat": 4,
 "nbformat_minor": 2
}
